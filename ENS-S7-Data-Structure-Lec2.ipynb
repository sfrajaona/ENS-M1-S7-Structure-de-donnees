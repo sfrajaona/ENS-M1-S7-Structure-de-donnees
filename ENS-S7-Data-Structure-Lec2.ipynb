{
 "cells": [
  {
   "cell_type": "markdown",
   "metadata": {},
   "source": [
    "## Les classes Python\n",
    "### Implementation d'une Arbre Binaire de recherche avec des listes de listes\n",
    "**Exercice** Définir une classe `TreeNode` (noeud d'un arbre binaire) qui contient les fonctions (méthodes) `left`, `right`, `value` en utilisant une liste \n"
   ]
  },
  {
   "cell_type": "code",
   "execution_count": 107,
   "metadata": {},
   "outputs": [],
   "source": [
    "class TreeNode:\n",
    "    def __init__(self, L):\n",
    "        self.value = L[0]\n",
    "        self.left = L[1]\n",
    "        self.right = L[2]\n",
    "\n",
    "gamma = TreeNode(['gamma',[],[]])"
   ]
  },
  {
   "cell_type": "markdown",
   "metadata": {},
   "source": [
    "**Exercice** Définir une classe `BinaryTree`"
   ]
  },
  {
   "cell_type": "code",
   "execution_count": 108,
   "metadata": {},
   "outputs": [],
   "source": [
    "class BinaryTree:\n",
    "    def __init__(self):\n",
    "        self.root = None\n",
    "        self.size = 0\n",
    "    def taille(self):\n",
    "        return self.size"
   ]
  },
  {
   "cell_type": "markdown",
   "metadata": {},
   "source": [
    "Toutes les fonctions utilisées pour les BinaryTree sont défini à l'interieur de la classe BinaryTree\n",
    "**Exercice** "
   ]
  },
  {
   "cell_type": "code",
   "execution_count": 109,
   "metadata": {},
   "outputs": [],
   "source": [
    "class TreeNode:\n",
    "    def __init__(self, L):\n",
    "        self.value = L[0]\n",
    "        self.left = L[1]\n",
    "        self.right = L[2]\n",
    "\n",
    "class BinaryTree:\n",
    "    def __init__(self):\n",
    "        self.root = None\n",
    "        self.size = 0\n",
    "    def taille(self):\n",
    "        return self.size\n",
    "    def ajouter(self, val):\n",
    "        if self.size == 0:\n",
    "            self.root = TreeNode([val,[],[]])        \n",
    "        else:\n",
    "            self._ajouter(val, self.root)\n",
    "        self.size = self.size + 1\n",
    "    def _ajouter(self, val, current_node):\n",
    "        if val <= self.root.value:\n",
    "            if current_node.left != []:\n",
    "                self._ajouter(val, current_node.left)\n",
    "            else:\n",
    "                current_node.left = TreeNode([val,[],[]])\n",
    "        else:\n",
    "            if current_node.right != []:\n",
    "                self._ajouter(val, current_node.right)\n",
    "            else:\n",
    "                current_node.right = TreeNode([val,[],[]])"
   ]
  },
  {
   "cell_type": "markdown",
   "metadata": {},
   "source": [
    "**Exercice** Définir la fonction content qui renvoye la valeur de la racine de l'arbre\n",
    "\n",
    "**Exercice** Définir une fonction pour chercher/effacer une valeur de l'arbre\n",
    "\n",
    "**Exercice** Définir une fonction pour afficher l'arbre"
   ]
  }
 ],
 "metadata": {
  "kernelspec": {
   "display_name": "Python 3",
   "language": "python",
   "name": "python3"
  },
  "language_info": {
   "codemirror_mode": {
    "name": "ipython",
    "version": 3
   },
   "file_extension": ".py",
   "mimetype": "text/x-python",
   "name": "python",
   "nbconvert_exporter": "python",
   "pygments_lexer": "ipython3",
   "version": "3.7.0"
  },
  "latex_envs": {
   "LaTeX_envs_menu_present": true,
   "autoclose": false,
   "autocomplete": true,
   "bibliofile": "biblio.bib",
   "cite_by": "apalike",
   "current_citInitial": 1,
   "eqLabelWithNumbers": true,
   "eqNumInitial": 1,
   "hotkeys": {
    "equation": "Ctrl-E",
    "itemize": "Ctrl-I"
   },
   "labels_anchors": false,
   "latex_user_defs": false,
   "report_style_numbering": false,
   "user_envs_cfg": false
  },
  "toc": {
   "base_numbering": 1,
   "nav_menu": {},
   "number_sections": true,
   "sideBar": true,
   "skip_h1_title": false,
   "title_cell": "Table of Contents",
   "title_sidebar": "Contents",
   "toc_cell": false,
   "toc_position": {},
   "toc_section_display": true,
   "toc_window_display": false
  }
 },
 "nbformat": 4,
 "nbformat_minor": 2
}
